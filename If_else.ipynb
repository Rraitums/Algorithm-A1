{
  "nbformat": 4,
  "nbformat_minor": 0,
  "metadata": {
    "colab": {
      "name": "If_else.ipynb",
      "provenance": []
    },
    "kernelspec": {
      "name": "python3",
      "display_name": "Python 3"
    },
    "language_info": {
      "name": "python"
    }
  },
  "cells": [
    {
      "cell_type": "code",
      "metadata": {
        "colab": {
          "base_uri": "https://localhost:8080/"
        },
        "id": "jHPIynoE2xkB",
        "outputId": "c58cfcc0-9873-4f7f-f12a-f707d74a018d"
      },
      "source": [
        "#import unicodedata\n",
        "print(\"Sveiki!\")\n",
        "name = input(\"Kāds tad ir tavs vārds? \")\n",
        "\n",
        "#age = input(\"Cik tev gadi? \")\n",
        "age = int(input(\"Cik tev gadi? \"))\n",
        "#try:\n",
        "  #n = int(age)\n",
        "  #print(\"Sveiki\", name, \"un tev ir\", age, \"gadi\")\n",
        "#except:\n",
        "  #print(\"Tas nav tavs vecums!\")\n",
        "print(\"Sveiki\", name, \"un tev ir\", age, \"gadi\")\n",
        "\n",
        "is_older = age >= 18\n",
        "if age >= 18:\n",
        "  print(\"Vari sākt!\")\n",
        "  ready_play = input(\"Vai vēlies piedalīties? (Jā/Nē) \").lower()\n",
        "\n",
        "  \n",
        "  if (ready_play == \"jā\" or \"ja\"):\n",
        "    print(\"Sākam!\")\n",
        "\n",
        "    left_or_right = input(\"Kur vēlies doties, pa labi uz mežu vai pa kreisi uz pilsētu? (l/k) \")\n",
        "    if (left_or_right == \"l\"):\n",
        "      print(\"Tu iegāji mežā...\")\n",
        "\n",
        "    else:\n",
        "      print(\"Ieejot pilsētā tev uzbrauca mašīna un nācās doties uz slimnīcu...\")\n",
        "\n",
        "#ready_play == \"ne\" or \"nē\" or \"n\":\n",
        "  else:\n",
        "    print(\"Paldies, līdz vēlākam!\")\n",
        "\n",
        "else:\n",
        "  print(\"Uzgaidi nedaudz, tu esi par jaunu!\")"
      ],
      "execution_count": 6,
      "outputs": [
        {
          "output_type": "stream",
          "text": [
            "Sveiki!\n",
            "Kāds tad ir tavs vārds? Riks\n",
            "Cik tev gadi? 19\n",
            "Sveiki Riks un tev ir 19 gadi\n",
            "Vari sākt!\n",
            "Vai vēlies piedalīties? (Jā/Nē) ja\n",
            "Sākam!\n",
            "Kur vēlies doties, pa labi uz mežu vai pa kreisi uz pilsētu? (l/k) l\n",
            "Tu iegāji mežā...\n"
          ],
          "name": "stdout"
        }
      ]
    }
  ]
}