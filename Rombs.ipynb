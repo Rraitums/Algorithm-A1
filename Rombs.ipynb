{
  "nbformat": 4,
  "nbformat_minor": 0,
  "metadata": {
    "colab": {
      "name": "Rombs.ipynb",
      "provenance": []
    },
    "kernelspec": {
      "name": "python3",
      "display_name": "Python 3"
    },
    "language_info": {
      "name": "python"
    }
  },
  "cells": [
    {
      "cell_type": "code",
      "metadata": {
        "colab": {
          "base_uri": "https://localhost:8080/"
        },
        "id": "px_SNZ7s8RuW",
        "outputId": "7fedeab6-ff73-43ea-dadf-bf393b2f9b19"
      },
      "source": [
        "row = int(input(\"Ievadi romba garāko horizontālo malu: (Skaitli) \"))\n",
        "\n",
        "for i in range (row):\n",
        "  print(\" \" * (row - i) + \"* \" * (i + 1)) \n",
        "# \" \" * (row - i) Lai izveidotu tukšumus katrā rindā sākās\" Piemērs: \"5\" 5-0=5 ; 5-1=4; ... 5-4=4 tukšumi; Tieši tas pats ar \"*\" , \n",
        "#  bet \"* \" * (i + 1) ir jāreizina ar kartu i + 1 lai katra izpildītajā rindiņā parādītos \"*\"\n",
        "for j in range(row-1):\n",
        "  print(\" \" * (j + 2) + \"* \" * (row - 1 - j))\n",
        "  # Romba apakšējās daļas izveidei jāņem vērā, ka platākā mala ir izveidota tapēc no row - 1 \n",
        "  # Lai palielinātu \" \" tukšumus  jāreizina ar j + un 2 lai neveidotos nobīde tukšumos \n",
        "  # Lai aizpildītu \"*\" jāreizina ar rindu skaitu atņemot mainīgo daļu j un jaatņem -1 lai nebūtu konstante un būtu pēdējais elements\n",
        "  # Pievērst uzmanību \"* \" simbolam tur ir atstarpe lai neveidotos 3 sturis \n",
        "\n"
      ],
      "execution_count": 18,
      "outputs": [
        {
          "output_type": "stream",
          "text": [
            "Ievadi romba garāko horizontālo malu: (Skaitli) 5\n",
            "     * \n",
            "    * * \n",
            "   * * * \n",
            "  * * * * \n",
            " * * * * * \n",
            "  * * * * \n",
            "   * * * \n",
            "    * * \n",
            "     * \n"
          ],
          "name": "stdout"
        }
      ]
    }
  ]
}