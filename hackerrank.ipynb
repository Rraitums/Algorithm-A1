{
  "nbformat": 4,
  "nbformat_minor": 0,
  "metadata": {
    "colab": {
      "name": "hackerrank.ipynb",
      "provenance": []
    },
    "kernelspec": {
      "name": "python3",
      "display_name": "Python 3"
    },
    "language_info": {
      "name": "python"
    }
  },
  "cells": [
    {
      "cell_type": "code",
      "metadata": {
        "id": "-1Mte3XtbtbK"
      },
      "source": [
        ""
      ],
      "execution_count": null,
      "outputs": []
    },
    {
      "cell_type": "markdown",
      "metadata": {
        "id": "56899FV4hNSy"
      },
      "source": [
        "# Say \"Hello, World!\" With Python"
      ]
    },
    {
      "cell_type": "code",
      "metadata": {
        "id": "2N3IiPk4hiLp"
      },
      "source": [
        "print(\"Hello, World!\")\n",
        "\n"
      ],
      "execution_count": null,
      "outputs": []
    },
    {
      "cell_type": "markdown",
      "metadata": {
        "id": "YktkXRJ3hkSe"
      },
      "source": [
        "# Python If-Else\n",
        "\n"
      ]
    },
    {
      "cell_type": "code",
      "metadata": {
        "colab": {
          "base_uri": "https://localhost:8080/"
        },
        "id": "5DQYEBtuhq4N",
        "outputId": "a0071777-8402-44c0-c07e-711f0ee1bcfd"
      },
      "source": [
        "#!/bin/python3\n",
        "\n",
        "import math\n",
        "import os\n",
        "import random\n",
        "import re\n",
        "import sys\n",
        "\n",
        "\n",
        "\n",
        "if __name__ == '__main__':\n",
        "    n = int(input().strip())\n",
        "\n",
        "if n%2 != 0:\n",
        "    print(\"Weird\")\n",
        "else :\n",
        "    if(n>=2 and n<=5):\n",
        "        print(\"Not Weird\")\n",
        "    elif(n>=6 and n<=20):\n",
        "        print(\"Weird\")\n",
        "    elif(n>20):\n",
        "        print(\"Not Weird\")"
      ],
      "execution_count": 1,
      "outputs": [
        {
          "output_type": "stream",
          "text": [
            "3\n",
            "Weird\n"
          ],
          "name": "stdout"
        }
      ]
    },
    {
      "cell_type": "markdown",
      "metadata": {
        "id": "94ksYdjbh5gl"
      },
      "source": [
        "# Arithmetic Operators"
      ]
    },
    {
      "cell_type": "code",
      "metadata": {
        "id": "NEhoKESKh_ms"
      },
      "source": [
        "if __name__ == '__main__':\n",
        "    a = int(input())\n",
        "    b = int(input())\n",
        "print(a + b)\n",
        "print(a - b)\n",
        "print(a * b)\n",
        "\n"
      ],
      "execution_count": null,
      "outputs": []
    },
    {
      "cell_type": "markdown",
      "metadata": {
        "id": "28fyjx8TiEGJ"
      },
      "source": [
        "# Python: Division\n",
        "\n"
      ]
    },
    {
      "cell_type": "code",
      "metadata": {
        "id": "LeFsN-j6iJGX"
      },
      "source": [
        "if __name__ == '__main__':\n",
        "    a = int(input())\n",
        "    b = int(input())\n",
        "\n",
        "print(a//b)\n",
        "print(a/b)\n",
        "\n"
      ],
      "execution_count": null,
      "outputs": []
    },
    {
      "cell_type": "markdown",
      "metadata": {
        "id": "CMbV-7WriOsW"
      },
      "source": [
        "# Loops"
      ]
    },
    {
      "cell_type": "code",
      "metadata": {
        "colab": {
          "base_uri": "https://localhost:8080/"
        },
        "id": "HtO-z_U1iUoW",
        "outputId": "e443aa33-cfd4-47ee-a5cc-09454906b78f"
      },
      "source": [
        "if __name__ == '__main__':\n",
        "    n = int(input())\n",
        "    \n",
        "for i in range(n):\n",
        "        print(i*i);\n",
        "\n"
      ],
      "execution_count": 2,
      "outputs": [
        {
          "output_type": "stream",
          "text": [
            "5\n",
            "0\n",
            "1\n",
            "4\n",
            "9\n",
            "16\n"
          ],
          "name": "stdout"
        }
      ]
    },
    {
      "cell_type": "markdown",
      "metadata": {
        "id": "7NmN78U3ib40"
      },
      "source": [
        "# Write a function\n",
        "*Neesmu baigi straa par so*"
      ]
    },
    {
      "cell_type": "code",
      "metadata": {
        "colab": {
          "base_uri": "https://localhost:8080/"
        },
        "id": "cneIkrnGihKV",
        "outputId": "2b385327-ac4b-466a-ad57-d106cf344aa4"
      },
      "source": [
        "def is_leap(n):\n",
        "    if n % 400 == 0:\n",
        "        return True\n",
        "    if n % 100 == 0:\n",
        "        return False\n",
        "    if n % 4 == 0:\n",
        "        return True\n",
        "    return False\n",
        "\n",
        "print(is_leap(int(input())))"
      ],
      "execution_count": 10,
      "outputs": [
        {
          "output_type": "stream",
          "text": [
            "1990\n",
            "False\n"
          ],
          "name": "stdout"
        }
      ]
    },
    {
      "cell_type": "markdown",
      "metadata": {
        "id": "GTaO6S9xjZ7O"
      },
      "source": [
        "# Print Function"
      ]
    },
    {
      "cell_type": "code",
      "metadata": {
        "colab": {
          "base_uri": "https://localhost:8080/"
        },
        "id": "-eYBBhLkjbck",
        "outputId": "0405fd6b-31c1-47e1-b7be-958b66772ab0"
      },
      "source": [
        "if __name__ == '__main__':\n",
        "    n = int(input())\n",
        "    \n",
        "    x = \"\"\n",
        "    for i in range(1, n+1):\n",
        "        x += str(i)\n",
        "    print(x) \n"
      ],
      "execution_count": 8,
      "outputs": [
        {
          "output_type": "stream",
          "text": [
            "3\n",
            "123\n"
          ],
          "name": "stdout"
        }
      ]
    }
  ]
}