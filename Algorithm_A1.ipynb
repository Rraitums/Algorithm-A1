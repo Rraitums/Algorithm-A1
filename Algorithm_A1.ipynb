{
  "nbformat": 4,
  "nbformat_minor": 0,
  "metadata": {
    "colab": {
      "name": "Algorithm-A1.ipynb",
      "provenance": [],
      "collapsed_sections": []
    },
    "kernelspec": {
      "name": "python3",
      "display_name": "Python 3"
    },
    "language_info": {
      "name": "python"
    }
  },
  "cells": [
    {
      "cell_type": "code",
      "metadata": {
        "colab": {
          "base_uri": "https://localhost:8080/"
        },
        "id": "cQMnf7iS7mK5",
        "outputId": "63ac8e29-f776-4e0d-c93d-2b28cec89557"
      },
      "source": [
        "string= input(\"Enter your word:\") \n",
        " \n",
        "x=list(string) \n",
        " \n",
        "len_x=len(x) \n",
        " \n",
        "for i in range(len_x-1): \n",
        "    for j in range(len_x-i-1): \n",
        "        if x[j]>x[j+1]: \n",
        "          x[j],x[j+1]=x[j+1],x[j] \n",
        "      \n",
        "new_string=\"\" \n",
        "for m in x: \n",
        "    new_string+=m \n",
        " \n",
        "print(new_string,\"is the sorted word.\") \n",
        "\n",
        "\n"
      ],
      "execution_count": null,
      "outputs": [
        {
          "output_type": "stream",
          "text": [
            "Enter your word:ricards\n",
            "acdirrs is the sorted word.\n"
          ],
          "name": "stdout"
        }
      ]
    }
  ]
}